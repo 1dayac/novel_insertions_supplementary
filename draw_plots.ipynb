{
 "cells": [
  {
   "cell_type": "code",
   "execution_count": 2,
   "metadata": {},
   "outputs": [
    {
     "name": "stdout",
     "output_type": "stream",
     "text": [
      "Empty DataFrame\n",
      "Columns: [Dataset, Method, Recall, Precision]\n",
      "Index: []\n"
     ]
    }
   ],
   "source": [
    "import pandas as pd\n",
    "import matplotlib.pyplot as plt\n",
    "import numpy as np\n",
    "\n",
    "\n",
    "df = pd.DataFrame(columns = [\"Dataset\", \"Method\", \"Recall\", \"Precision\"])\n",
    "print(df)"
   ]
  },
  {
   "cell_type": "code",
   "execution_count": 3,
   "metadata": {},
   "outputs": [],
   "source": [
    "df2 = pd.DataFrame(columns = [\"Dataset\", \"Method\", \"Recall\", \"Precision\"])\n",
    "\n",
    "df2 = df2.append({\"Dataset\" : \"NA12878-TellSeq\", \"Method\" : \"Novel-X\", \"Recall\" : 76/526, \"Precision\" : 0.77}, ignore_index = True)\n",
    "df2 = df2.append({\"Dataset\" : \"NA12878-TellSeq\", \"Method\" : \"Popins\", \"Recall\" : 0.0, \"Precision\" : 0.0}, ignore_index = True)\n",
    "df2 = df2.append({\"Dataset\" : \"NA12878-TellSeq\", \"Method\" : \"S/P\", \"Recall\" : 0.0, \"Precision\" : 0.0}, ignore_index = True)\n",
    "df2 = df2.append({\"Dataset\" : \"NA12878-TellSeq\", \"Method\" : \"NUI\", \"Recall\" : 0.0, \"Precision\" : 0.0}, ignore_index = True)\n",
    "\n",
    "df2 = df2.append({\"Dataset\" : \"NA12878-stLFR\", \"Method\" : \"Novel-X\", \"Recall\" : 0.0, \"Precision\" : 0.0}, ignore_index = True)\n",
    "df2 = df2.append({\"Dataset\" : \"NA12878-stLFR\", \"Method\" : \"Popins\", \"Recall\" : 0.0, \"Precision\" : 0.0}, ignore_index = True)\n",
    "df2 = df2.append({\"Dataset\" : \"NA12878-stLFR\", \"Method\" : \"S/P\", \"Recall\" : 0.0, \"Precision\" : 0.0}, ignore_index = True)\n",
    "df2 = df2.append({\"Dataset\" : \"NA12878-stLFR\", \"Method\" : \"NUI\", \"Recall\" : 0.0, \"Precision\" : 0.0}, ignore_index = True)\n",
    "\n",
    "\n",
    "df2 = df2.append({\"Dataset\" : \"HG002-stLFR\", \"Method\" : \"Novel-X\", \"Recall\" : 53/513, \"Precision\" : 0.47}, ignore_index = True)\n",
    "df2 = df2.append({\"Dataset\" : \"HG002-TellSeq\", \"Method\" : \"Novel-X\", \"Recall\" : 0, \"Precision\" : 0}, ignore_index = True)\n",
    "df2 = df2.append({\"Dataset\" : \"HG002-stLFR\", \"Method\" : \"Popins\", \"Recall\" : 0.0, \"Precision\" : 0.0}, ignore_index = True)\n",
    "df2 = df2.append({\"Dataset\" : \"HG002-stLFR\", \"Method\" : \"S/P\", \"Recall\" : 0.0, \"Precision\" : 0.0}, ignore_index = True)\n",
    "df2 = df2.append({\"Dataset\" : \"HG002-stLFR\", \"Method\" : \"NUI\", \"Recall\" : 0.0, \"Precision\" : 0.0}, ignore_index = True)\n",
    "df2 = df2.append({\"Dataset\" : \"HG002-TellSeq\", \"Method\" : \"Popins\", \"Recall\" : 0.0, \"Precision\" : 0.0}, ignore_index = True)\n",
    "df2 = df2.append({\"Dataset\" : \"HG002-TellSeq\", \"Method\" : \"S/P\", \"Recall\" : 0.0, \"Precision\" : 0.0}, ignore_index = True)\n",
    "df2 = df2.append({\"Dataset\" : \"HG002-TellSeq\", \"Method\" : \"NUI\", \"Recall\" : 0.0, \"Precision\" : 0.0}, ignore_index = True)\n"
   ]
  },
  {
   "cell_type": "code",
   "execution_count": 4,
   "metadata": {},
   "outputs": [],
   "source": [
    "df = df.append({\"Dataset\" : \"CHM1\", \"Method\" : \"Novel-X\", \"Recall\" : 134/401, \"Precision\" : 0.67}, ignore_index = True)\n",
    "df = df.append({\"Dataset\" : \"CHM1\", \"Method\" : \"Pamir\", \"Recall\" : 31/401, \"Precision\" : 0.30}, ignore_index = True)\n",
    "df = df.append({\"Dataset\" : \"CHM1\", \"Method\" : \"PopIns\", \"Recall\" : 4/401, \"Precision\" : 0.01}, ignore_index = True)\n",
    "df = df.append({\"Dataset\" : \"CHM13\", \"Method\" : \"Novel-X\", \"Recall\" : 124/348, \"Precision\" : 0.62}, ignore_index = True)\n",
    "df = df.append({\"Dataset\" : \"CHM13\", \"Method\" : \"Pamir\", \"Recall\" : 29/348, \"Precision\" : 0.26}, ignore_index = True)\n",
    "df = df.append({\"Dataset\" : \"CHM13\", \"Method\" : \"PopIns\", \"Recall\" : 9/348, \"Precision\" : 0.02}, ignore_index = True)\n",
    "df = df.append({\"Dataset\" : \"NA19240\", \"Method\" : \"Novel-X\", \"Recall\" : 232/627, \"Precision\" : 0.59}, ignore_index = True)\n",
    "df = df.append({\"Dataset\" : \"NA19240\", \"Method\" : \"Pamir\", \"Recall\" : 30/627, \"Precision\" : 0.23}, ignore_index = True)\n",
    "df = df.append({\"Dataset\" : \"NA19240\", \"Method\" : \"PopIns\", \"Recall\" : 3/627, \"Precision\" : 0.01}, ignore_index = True)\n",
    "df = df.append({\"Dataset\" : \"NA19240\", \"Method\" : \"NUI\", \"Recall\" : 40/627, \"Precision\" : 0.10}, ignore_index = True)\n",
    "df = df.append({\"Dataset\" : \"NA19240\", \"Method\" : \"S/P\", \"Recall\" : 235/627, \"Precision\" : 0.56}, ignore_index = True)\n",
    "df = df.append({\"Dataset\" : \"NA12878\", \"Method\" : \"Novel-X\", \"Recall\" : 185/526, \"Precision\" : 0.61}, ignore_index = True)\n",
    "#df = df.append({\"Dataset\" : \"NA12878\", \"Method\" : \"Novel-X\\nTELLseq\", \"Recall\" : 76/526, \"Precision\" : 0.77}, ignore_index = True)\n",
    "df = df.append({\"Dataset\" : \"NA12878\", \"Method\" : \"NUI\", \"Recall\" : 7/526, \"Precision\" : 0.22}, ignore_index = True)\n",
    "df = df.append({\"Dataset\" : \"NA12878\", \"Method\" : \"Popins\", \"Recall\" : 1/526, \"Precision\" : 0.04}, ignore_index = True)\n",
    "df = df.append({\"Dataset\" : \"NA12878\", \"Method\" : \"S/P\", \"Recall\" : 158/526, \"Precision\" : 0.48}, ignore_index = True)\n",
    "df = df.append({\"Dataset\" : \"HG002\", \"Method\" : \"Novel-X\", \"Recall\" : 121/513, \"Precision\" : 0.38}, ignore_index = True)\n",
    "#df = df.append({\"Dataset\" : \"HG002\", \"Method\" : \"Novel-X\\nstLFR\", \"Recall\" : 53/513, \"Precision\" : 0.47}, ignore_index = True)\n",
    "df = df.append({\"Dataset\" : \"HG002\", \"Method\" : \"PopIns\", \"Recall\" : 1/513, \"Precision\" : 0.01}, ignore_index = True)\n",
    "df = df.append({\"Dataset\" : \"HG002\", \"Method\" : \"S/P\", \"Recall\" : 118/513, \"Precision\" : 0.31}, ignore_index = True)\n"
   ]
  },
  {
   "cell_type": "code",
   "execution_count": 5,
   "metadata": {},
   "outputs": [
    {
     "data": {
      "text/plain": "    Dataset   Method    Recall  Precision\n0      CHM1  Novel-X  0.334165       0.67\n1      CHM1    Pamir  0.077307       0.30\n2      CHM1   PopIns  0.009975       0.01\n3     CHM13  Novel-X  0.356322       0.62\n4     CHM13    Pamir  0.083333       0.26\n5     CHM13   PopIns  0.025862       0.02\n6   NA19240  Novel-X  0.370016       0.59\n7   NA19240    Pamir  0.047847       0.23\n8   NA19240   PopIns  0.004785       0.01\n9   NA19240      NUI  0.063796       0.10\n10  NA19240      S/P  0.374801       0.56\n11  NA12878  Novel-X  0.351711       0.61\n12  NA12878      NUI  0.013308       0.22\n13  NA12878   Popins  0.001901       0.04\n14  NA12878      S/P  0.300380       0.48\n15    HG002  Novel-X  0.235867       0.38\n16    HG002   PopIns  0.001949       0.01\n17    HG002      S/P  0.230019       0.31",
      "text/html": "<div>\n<style scoped>\n    .dataframe tbody tr th:only-of-type {\n        vertical-align: middle;\n    }\n\n    .dataframe tbody tr th {\n        vertical-align: top;\n    }\n\n    .dataframe thead th {\n        text-align: right;\n    }\n</style>\n<table border=\"1\" class=\"dataframe\">\n  <thead>\n    <tr style=\"text-align: right;\">\n      <th></th>\n      <th>Dataset</th>\n      <th>Method</th>\n      <th>Recall</th>\n      <th>Precision</th>\n    </tr>\n  </thead>\n  <tbody>\n    <tr>\n      <th>0</th>\n      <td>CHM1</td>\n      <td>Novel-X</td>\n      <td>0.334165</td>\n      <td>0.67</td>\n    </tr>\n    <tr>\n      <th>1</th>\n      <td>CHM1</td>\n      <td>Pamir</td>\n      <td>0.077307</td>\n      <td>0.30</td>\n    </tr>\n    <tr>\n      <th>2</th>\n      <td>CHM1</td>\n      <td>PopIns</td>\n      <td>0.009975</td>\n      <td>0.01</td>\n    </tr>\n    <tr>\n      <th>3</th>\n      <td>CHM13</td>\n      <td>Novel-X</td>\n      <td>0.356322</td>\n      <td>0.62</td>\n    </tr>\n    <tr>\n      <th>4</th>\n      <td>CHM13</td>\n      <td>Pamir</td>\n      <td>0.083333</td>\n      <td>0.26</td>\n    </tr>\n    <tr>\n      <th>5</th>\n      <td>CHM13</td>\n      <td>PopIns</td>\n      <td>0.025862</td>\n      <td>0.02</td>\n    </tr>\n    <tr>\n      <th>6</th>\n      <td>NA19240</td>\n      <td>Novel-X</td>\n      <td>0.370016</td>\n      <td>0.59</td>\n    </tr>\n    <tr>\n      <th>7</th>\n      <td>NA19240</td>\n      <td>Pamir</td>\n      <td>0.047847</td>\n      <td>0.23</td>\n    </tr>\n    <tr>\n      <th>8</th>\n      <td>NA19240</td>\n      <td>PopIns</td>\n      <td>0.004785</td>\n      <td>0.01</td>\n    </tr>\n    <tr>\n      <th>9</th>\n      <td>NA19240</td>\n      <td>NUI</td>\n      <td>0.063796</td>\n      <td>0.10</td>\n    </tr>\n    <tr>\n      <th>10</th>\n      <td>NA19240</td>\n      <td>S/P</td>\n      <td>0.374801</td>\n      <td>0.56</td>\n    </tr>\n    <tr>\n      <th>11</th>\n      <td>NA12878</td>\n      <td>Novel-X</td>\n      <td>0.351711</td>\n      <td>0.61</td>\n    </tr>\n    <tr>\n      <th>12</th>\n      <td>NA12878</td>\n      <td>NUI</td>\n      <td>0.013308</td>\n      <td>0.22</td>\n    </tr>\n    <tr>\n      <th>13</th>\n      <td>NA12878</td>\n      <td>Popins</td>\n      <td>0.001901</td>\n      <td>0.04</td>\n    </tr>\n    <tr>\n      <th>14</th>\n      <td>NA12878</td>\n      <td>S/P</td>\n      <td>0.300380</td>\n      <td>0.48</td>\n    </tr>\n    <tr>\n      <th>15</th>\n      <td>HG002</td>\n      <td>Novel-X</td>\n      <td>0.235867</td>\n      <td>0.38</td>\n    </tr>\n    <tr>\n      <th>16</th>\n      <td>HG002</td>\n      <td>PopIns</td>\n      <td>0.001949</td>\n      <td>0.01</td>\n    </tr>\n    <tr>\n      <th>17</th>\n      <td>HG002</td>\n      <td>S/P</td>\n      <td>0.230019</td>\n      <td>0.31</td>\n    </tr>\n  </tbody>\n</table>\n</div>"
     },
     "execution_count": 5,
     "metadata": {},
     "output_type": "execute_result"
    }
   ],
   "source": [
    "df"
   ]
  },
  {
   "cell_type": "code",
   "execution_count": 6,
   "metadata": {},
   "outputs": [
    {
     "data": {
      "text/plain": "<AxesSubplot:xlabel='Method'>"
     },
     "execution_count": 6,
     "metadata": {},
     "output_type": "execute_result"
    },
    {
     "data": {
      "text/plain": "<Figure size 432x288 with 1 Axes>",
      "image/png": "[encoded data removed]"
     },
     "metadata": {
      "needs_background": "light"
     },
     "output_type": "display_data"
    }
   ],
   "source": [
    "def mk_groups(data):\n",
    "    try:\n",
    "        newdata = data.items()\n",
    "    except:\n",
    "        return\n",
    "\n",
    "    thisgroup = []\n",
    "    groups = []\n",
    "    for key, value in newdata:\n",
    "        newgroups = mk_groups(value)\n",
    "        if newgroups is None:\n",
    "            thisgroup.append((key, value))\n",
    "        else:\n",
    "            thisgroup.append((key, len(newgroups[-1])))\n",
    "            if groups:\n",
    "                groups = [g + n for n, g in zip(newgroups, groups)]\n",
    "            else:\n",
    "                groups = newgroups\n",
    "    return [thisgroup] + groups\n",
    "\n",
    "def add_line(ax, xpos, ypos):\n",
    "    line = plt.Line2D([xpos, xpos], [ypos + .1, ypos],\n",
    "                      transform=ax.transAxes, color='black')\n",
    "    line.set_clip_on(False)\n",
    "    ax.add_line(line)\n",
    "\n",
    "def label_group_bar(ax, data):\n",
    "    groups = mk_groups(data)\n",
    "    xy = groups.pop()\n",
    "    x, y = zip(*xy)\n",
    "    ly = len(y)\n",
    "    xticks = range(1, ly + 1)\n",
    "\n",
    "    ax.bar(xticks, y, align='center')\n",
    "    ax.set_xticks(xticks)\n",
    "    ax.set_xticklabels(x)\n",
    "    ax.set_xlim(.5, ly + .5)\n",
    "    ax.yaxis.grid(True)\n",
    "\n",
    "    scale = 1. / ly\n",
    "    for pos in xrange(ly + 1):\n",
    "        add_line(ax, pos * scale, -.1)\n",
    "    ypos = -.2\n",
    "    while groups:\n",
    "        group = groups.pop()\n",
    "        pos = 0\n",
    "        for label, rpos in group:\n",
    "            lxpos = (pos + .5 * rpos) * scale\n",
    "            ax.text(lxpos, ypos, label, ha='center', transform=ax.transAxes)\n",
    "            add_line(ax, pos * scale, ypos)\n",
    "            pos += rpos\n",
    "        add_line(ax, pos * scale, ypos)\n",
    "        ypos -= .1\n",
    "\n",
    "df.plot(kind = \"bar\", x = \"Method\")"
   ]
  },
  {
   "cell_type": "code",
   "execution_count": 7,
   "metadata": {},
   "outputs": [
    {
     "ename": "NameError",
     "evalue": "name 'label_group_bar_table' is not defined",
     "output_type": "error",
     "traceback": [
      "\u001B[0;31m---------------------------------------------------------------------------\u001B[0m",
      "\u001B[0;31mNameError\u001B[0m                                 Traceback (most recent call last)",
      "Input \u001B[0;32mIn [7]\u001B[0m, in \u001B[0;36m<module>\u001B[0;34m\u001B[0m\n\u001B[1;32m      8\u001B[0m ax\u001B[38;5;241m.\u001B[39mset_xticklabels(labels)\n\u001B[1;32m      9\u001B[0m ax\u001B[38;5;241m.\u001B[39mset_xlabel(\u001B[38;5;124m'\u001B[39m\u001B[38;5;124m'\u001B[39m)\n\u001B[0;32m---> 10\u001B[0m \u001B[43mlabel_group_bar_table\u001B[49m(ax, df2)\n\u001B[1;32m     11\u001B[0m fig\u001B[38;5;241m.\u001B[39msubplots_adjust(bottom\u001B[38;5;241m=\u001B[39m\u001B[38;5;241m.1\u001B[39m\u001B[38;5;241m*\u001B[39mdf\u001B[38;5;241m.\u001B[39mindex\u001B[38;5;241m.\u001B[39mnlevels)\n\u001B[1;32m     12\u001B[0m plt\u001B[38;5;241m.\u001B[39mshow()\n",
      "\u001B[0;31mNameError\u001B[0m: name 'label_group_bar_table' is not defined"
     ]
    },
    {
     "data": {
      "text/plain": "<Figure size 1080x288 with 1 Axes>",
      "image/png": "[encoded data removed]"
     },
     "metadata": {
      "needs_background": "light"
     },
     "output_type": "display_data"
    }
   ],
   "source": [
    "from itertools import groupby\n",
    "fig = plt.figure()\n",
    "ax = fig.add_subplot(1,1,1)\n",
    "df2 = df2.groupby(['Dataset','Method']).sum()\n",
    "df2.plot(kind='bar',ax=fig.gca(), figsize=(15,4))\n",
    "labels = ['' for item in ax.get_xticklabels()]\n",
    "\n",
    "ax.set_xticklabels(labels)\n",
    "ax.set_xlabel('')\n",
    "label_group_bar_table(ax, df2)\n",
    "fig.subplots_adjust(bottom=.1*df.index.nlevels)\n",
    "plt.show()"
   ]
  },
  {
   "cell_type": "code",
   "execution_count": 11,
   "metadata": {},
   "outputs": [
    {
     "name": "stdout",
     "output_type": "stream",
     "text": [
      "CHM13\n",
      "HG002\n",
      "NA12878\n",
      "NA19240\n"
     ]
    },
    {
     "data": {
      "text/plain": "<Figure size 1080x288 with 1 Axes>",
      "image/png": "[encoded data removed]"
     },
     "metadata": {
      "needs_background": "light"
     },
     "output_type": "display_data"
    }
   ],
   "source": [
    "from itertools import groupby\n",
    "fig = plt.figure()\n",
    "ax = fig.add_subplot(1,1,1)\n",
    "df2 = df.groupby(['Dataset','Method']).sum()\n",
    "df2.plot(kind='bar',ax=fig.gca(), figsize=(15,4))\n",
    "labels = ['' for item in ax.get_xticklabels()]\n",
    "\n",
    "ax.set_xticklabels(labels)\n",
    "ax.set_xlabel('')\n",
    "label_group_bar_table(ax, df2)\n",
    "fig.subplots_adjust(bottom=.1*df.index.nlevels)\n",
    "plt.show()\n",
    "#label_group_bar(ax, df2)\n",
    "#fig.subplots_adjust(bottom=0.3)\n",
    "#fig.savefig('label_group_bar_example.png')"
   ]
  },
  {
   "cell_type": "code",
   "execution_count": 10,
   "metadata": {},
   "outputs": [],
   "source": [
    "def test_table():\n",
    "    data_table = pd.DataFrame({'Room':['Room A']*4 + ['Room B']*4,\n",
    "                               'Shelf':(['Shelf 1']*2 + ['Shelf 2']*2)*2,\n",
    "                               'Staple':['Milk','Water','Sugar','Honey','Wheat','Corn','Chicken','Cow'],\n",
    "                               'Quantity':[10,20,5,6,4,7,2,1],\n",
    "                               'Ordered':np.random.randint(0,10,8)\n",
    "                               })\n",
    "    return data_table\n",
    "\n",
    "def add_line(ax, xpos, ypos):\n",
    "    line = plt.Line2D([xpos, xpos], [ypos + .1, ypos],\n",
    "                      transform=ax.transAxes, color='black')\n",
    "    line.set_clip_on(False)\n",
    "    ax.add_line(line)\n",
    "\n",
    "def add_line2(ax, xpos, ypos):\n",
    "    line = plt.Line2D([xpos, xpos], [ypos, ypos + 1.2],\n",
    "                      transform=ax.transAxes, color='black')\n",
    "    line.set_clip_on(False)\n",
    "    ax.add_line(line)\n",
    "\n",
    "    \n",
    "def label_len(my_index,level):\n",
    "    labels = my_index.get_level_values(level)\n",
    "    return [(k, sum(1 for i in g)) for k,g in groupby(labels)]\n",
    "\n",
    "def label_group_bar_table(ax, df):\n",
    "    ypos = -.1\n",
    "    scale = 1./df.index.size\n",
    "    for level in range(df.index.nlevels)[::-1]:\n",
    "        pos = 0\n",
    "        for label, rpos in label_len(df.index,level):\n",
    "            lxpos = (pos + .5 * rpos)*scale\n",
    "            ax.text(lxpos, ypos, label, ha='center', transform=ax.transAxes)\n",
    "            add_line(ax, pos*scale, ypos)\n",
    "            if level == 0 and pos != 0:\n",
    "                add_line2(ax, pos*scale, ypos)\n",
    "                print(label)\n",
    "            pos += rpos\n",
    "        add_line(ax, pos*scale , ypos)\n",
    "        ypos -= .1"
   ]
  },
  {
   "cell_type": "code",
   "execution_count": 7,
   "metadata": {},
   "outputs": [
    {
     "data": {
      "text/plain": [
       "<AxesSubplot:xlabel='Room,Shelf,Staple'>"
      ]
     },
     "execution_count": 7,
     "metadata": {},
     "output_type": "execute_result"
    },
    {
     "data": {
      "image/png": "[encoded data removed]",
      "text/plain": [
       "<Figure size 432x288 with 1 Axes>"
      ]
     },
     "metadata": {
      "needs_background": "light"
     },
     "output_type": "display_data"
    }
   ],
   "source": [
    "\n",
    "df3 = test_table().groupby(['Room','Shelf','Staple']).sum()\n",
    "fig = plt.figure()\n",
    "ax = fig.add_subplot(111)\n",
    "df3.plot(kind='bar',stacked=True,ax=fig.gca())\n"
   ]
  },
  {
   "cell_type": "code",
   "execution_count": null,
   "metadata": {},
   "outputs": [],
   "source": []
  },
  {
   "cell_type": "code",
   "execution_count": null,
   "metadata": {},
   "outputs": [],
   "source": []
  }
 ],
 "metadata": {
  "kernelspec": {
   "display_name": "Python 3",
   "language": "python",
   "name": "python3"
  },
  "language_info": {
   "codemirror_mode": {
    "name": "ipython",
    "version": 3
   },
   "file_extension": ".py",
   "mimetype": "text/x-python",
   "name": "python",
   "nbconvert_exporter": "python",
   "pygments_lexer": "ipython3",
   "version": "3.8.5"
  }
 },
 "nbformat": 4,
 "nbformat_minor": 4
}